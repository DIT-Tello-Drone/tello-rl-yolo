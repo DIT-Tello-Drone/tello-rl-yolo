{
 "cells": [
  {
   "cell_type": "code",
   "execution_count": null,
   "metadata": {},
   "outputs": [
    {
     "name": "stderr",
     "output_type": "stream",
     "text": [
      "Using TensorFlow backend.\n"
     ]
    },
    {
     "name": "stdout",
     "output_type": "stream",
     "text": [
      "[ 16.532202 -34.864223]\n",
      "WARNING:tensorflow:From C:\\Users\\rahim\\Anaconda3\\envs\\tf-gpu\\lib\\site-packages\\tensorflow\\python\\framework\\op_def_library.py:263: colocate_with (from tensorflow.python.framework.ops) is deprecated and will be removed in a future version.\n",
      "Instructions for updating:\n",
      "Colocations handled automatically by placer.\n",
      "_________________________________________________________________\n",
      "Layer (type)                 Output Shape              Param #   \n",
      "=================================================================\n",
      "flatten_1 (Flatten)          (None, 2)                 0         \n",
      "_________________________________________________________________\n",
      "dense_1 (Dense)              (None, 16)                48        \n",
      "_________________________________________________________________\n",
      "activation_1 (Activation)    (None, 16)                0         \n",
      "_________________________________________________________________\n",
      "dense_2 (Dense)              (None, 16)                272       \n",
      "_________________________________________________________________\n",
      "activation_2 (Activation)    (None, 16)                0         \n",
      "_________________________________________________________________\n",
      "dense_3 (Dense)              (None, 16)                272       \n",
      "_________________________________________________________________\n",
      "activation_3 (Activation)    (None, 16)                0         \n",
      "_________________________________________________________________\n",
      "dense_4 (Dense)              (None, 2)                 34        \n",
      "_________________________________________________________________\n",
      "lambda_1 (Lambda)            (None, 2)                 0         \n",
      "=================================================================\n",
      "Total params: 626\n",
      "Trainable params: 626\n",
      "Non-trainable params: 0\n",
      "_________________________________________________________________\n",
      "None\n",
      "__________________________________________________________________________________________________\n",
      "Layer (type)                    Output Shape         Param #     Connected to                     \n",
      "==================================================================================================\n",
      "observation_input (InputLayer)  (None, 1, 2)         0                                            \n",
      "__________________________________________________________________________________________________\n",
      "action_input (InputLayer)       (None, 2)            0                                            \n",
      "__________________________________________________________________________________________________\n",
      "flatten_2 (Flatten)             (None, 2)            0           observation_input[0][0]          \n",
      "__________________________________________________________________________________________________\n",
      "concatenate_1 (Concatenate)     (None, 4)            0           action_input[0][0]               \n",
      "                                                                 flatten_2[0][0]                  \n",
      "__________________________________________________________________________________________________\n",
      "dense_5 (Dense)                 (None, 32)           160         concatenate_1[0][0]              \n",
      "__________________________________________________________________________________________________\n",
      "activation_4 (Activation)       (None, 32)           0           dense_5[0][0]                    \n",
      "__________________________________________________________________________________________________\n",
      "dense_6 (Dense)                 (None, 32)           1056        activation_4[0][0]               \n",
      "__________________________________________________________________________________________________\n",
      "activation_5 (Activation)       (None, 32)           0           dense_6[0][0]                    \n",
      "__________________________________________________________________________________________________\n",
      "dense_7 (Dense)                 (None, 32)           1056        activation_5[0][0]               \n",
      "__________________________________________________________________________________________________\n",
      "activation_6 (Activation)       (None, 32)           0           dense_7[0][0]                    \n",
      "__________________________________________________________________________________________________\n",
      "dense_8 (Dense)                 (None, 1)            33          activation_6[0][0]               \n",
      "__________________________________________________________________________________________________\n",
      "activation_7 (Activation)       (None, 1)            0           dense_8[0][0]                    \n",
      "==================================================================================================\n",
      "Total params: 2,305\n",
      "Trainable params: 2,305\n",
      "Non-trainable params: 0\n",
      "__________________________________________________________________________________________________\n",
      "None\n",
      "Training for 100000 steps ...\n",
      "Interval 1 (0 steps performed)\n",
      "   99/10000 [..............................] - ETA: 7:36 - reward: -87.9603WARNING:tensorflow:From C:\\Users\\rahim\\Anaconda3\\envs\\tf-gpu\\lib\\site-packages\\tensorflow\\python\\ops\\math_ops.py:3066: to_int32 (from tensorflow.python.ops.math_ops) is deprecated and will be removed in a future version.\n",
      "Instructions for updating:\n",
      "Use tf.cast instead.\n",
      "10000/10000 [==============================] - 216s 22ms/step - reward: -74.5637\n",
      "4165 episodes - episode_reward: -179.002 [-1307.739, 96.899] - loss: 1254.137 - mean_absolute_error: 38.797 - mean_q: -144.646\n",
      "\n",
      "Interval 2 (10000 steps performed)\n",
      " 8351/10000 [========================>.....] - ETA: 37s - reward: -76.5950"
     ]
    }
   ],
   "source": [
    "import sys\n",
    "import numpy as np\n",
    "import pandas as pd\n",
    "from agents.rl_drone import RLAgent\n",
    "from agents.drone_sim_env import drone_sim\n",
    "\n",
    "env = drone_sim()\n",
    "agent = RLAgent(env)\n",
    "ENV_NAME = 'drone'\n",
    "training_history=agent.agent.fit(env, nb_steps=100000, visualize=True, verbose=1, nb_max_episode_steps=10)\n",
    "\n",
    "#After training is done, we save the final weights.\n",
    "agent.agent.save_weights('ddpg_{}_weights.h5f'.format(ENV_NAME), overwrite=True)\n",
    "#agent.agent.load_weights('ddpg_{}_weights.h5f'.format(ENV_NAME))\n",
    "\n",
    "# Finally, evaluate our algorithm for 5 episodes.\n"
   ]
  },
  {
   "cell_type": "code",
   "execution_count": 3,
   "metadata": {},
   "outputs": [
    {
     "name": "stdout",
     "output_type": "stream",
     "text": [
      "Testing for 50 episodes ...\n",
      "Episode 1: reward: 149.398, steps: 10\n",
      "Episode 2: reward: 93.422, steps: 10\n",
      "Episode 3: reward: 233.816, steps: 10\n",
      "Episode 4: reward: 39.429, steps: 10\n",
      "Episode 5: reward: -58.638, steps: 10\n",
      "Episode 6: reward: 171.430, steps: 10\n",
      "Episode 7: reward: 182.576, steps: 10\n",
      "Episode 8: reward: -25.067, steps: 10\n",
      "Episode 9: reward: 45.733, steps: 10\n",
      "Episode 10: reward: 201.953, steps: 10\n",
      "Episode 11: reward: -179.129, steps: 10\n",
      "Episode 12: reward: -242.602, steps: 5\n",
      "Episode 13: reward: 158.046, steps: 10\n",
      "Episode 14: reward: 110.120, steps: 10\n",
      "Episode 15: reward: -67.470, steps: 10\n",
      "Episode 16: reward: -4.717, steps: 10\n",
      "Episode 17: reward: -4.453, steps: 8\n",
      "Episode 18: reward: 50.058, steps: 10\n",
      "Episode 19: reward: 149.485, steps: 10\n",
      "Episode 20: reward: -89.201, steps: 10\n",
      "Episode 21: reward: 201.418, steps: 10\n",
      "Episode 22: reward: -108.106, steps: 10\n",
      "Episode 23: reward: 23.738, steps: 5\n",
      "Episode 24: reward: 142.635, steps: 10\n",
      "Episode 25: reward: 138.397, steps: 10\n",
      "Episode 26: reward: -113.543, steps: 10\n",
      "Episode 27: reward: 30.140, steps: 10\n",
      "Episode 28: reward: 290.243, steps: 10\n",
      "Episode 29: reward: 219.720, steps: 10\n",
      "Episode 30: reward: -72.973, steps: 10\n",
      "Episode 31: reward: 122.810, steps: 10\n",
      "Episode 32: reward: 194.208, steps: 10\n",
      "Episode 33: reward: 299.710, steps: 10\n",
      "Episode 34: reward: 205.027, steps: 10\n",
      "Episode 35: reward: 25.578, steps: 10\n",
      "Episode 36: reward: -87.041, steps: 4\n",
      "Episode 37: reward: -93.880, steps: 10\n",
      "Episode 38: reward: -79.457, steps: 10\n",
      "Episode 39: reward: -50.435, steps: 10\n",
      "Episode 40: reward: 136.328, steps: 10\n",
      "Episode 41: reward: 66.828, steps: 10\n",
      "Episode 42: reward: 187.656, steps: 10\n",
      "Episode 43: reward: -92.657, steps: 10\n",
      "Episode 44: reward: 289.321, steps: 10\n",
      "Episode 45: reward: 225.291, steps: 10\n",
      "Episode 46: reward: 122.884, steps: 10\n",
      "Episode 47: reward: 26.198, steps: 5\n",
      "Episode 48: reward: -88.733, steps: 10\n",
      "Episode 49: reward: -84.097, steps: 10\n",
      "Episode 50: reward: -88.571, steps: 6\n"
     ]
    },
    {
     "data": {
      "text/plain": [
       "<keras.callbacks.History at 0x16790e71a58>"
      ]
     },
     "execution_count": 3,
     "metadata": {},
     "output_type": "execute_result"
    }
   ],
   "source": [
    "\n",
    "\n",
    "#After training is done, we save the final weights.\n",
    "\n",
    "agent.agent.load_weights('ddpg_{}_weights.h5f'.format(ENV_NAME))\n",
    "agent.agent.test(env, nb_episodes=50, visualize=True, verbose=1, nb_max_episode_steps=10,start_step_policy=1)"
   ]
  },
  {
   "cell_type": "markdown",
   "metadata": {
    "collapsed": true
   },
   "source": [
    "## Plot the Rewards\n",
    "\n",
    "Once you are satisfied with your performance, plot the episode rewards, either from a single run, or averaged over multiple runs. "
   ]
  },
  {
   "cell_type": "code",
   "execution_count": 5,
   "metadata": {},
   "outputs": [
    {
     "data": {
      "text/plain": [
       "[<matplotlib.lines.Line2D at 0x1679527af98>,\n",
       " <matplotlib.lines.Line2D at 0x167952830f0>]"
      ]
     },
     "execution_count": 5,
     "metadata": {},
     "output_type": "execute_result"
    },
    {
     "data": {
      "image/png": "[encoded data removed]",
      "text/plain": [
       "<Figure size 432x288 with 1 Axes>"
      ]
     },
     "metadata": {
      "needs_background": "light"
     },
     "output_type": "display_data"
    }
   ],
   "source": [
    "import matplotlib.pyplot as plt\n",
    "df=pd.DataFrame()\n",
    "df = pd.DataFrame(columns=['raw','MA'])\n",
    "df['raw'] = training_history.history['episode_reward']\n",
    "df['MA']= df.rolling(window=100).mean()\n",
    "plt.plot(df)\n"
   ]
  },
  {
   "cell_type": "code",
   "execution_count": null,
   "metadata": {},
   "outputs": [],
   "source": []
  }
 ],
 "metadata": {
  "anaconda-cloud": {},
  "kernelspec": {
   "display_name": "TensorFlow-GPU",
   "language": "python",
   "name": "tf-gpu"
  },
  "language_info": {
   "codemirror_mode": {
    "name": "ipython",
    "version": 3
   },
   "file_extension": ".py",
   "mimetype": "text/x-python",
   "name": "python",
   "nbconvert_exporter": "python",
   "pygments_lexer": "ipython3",
   "version": "3.6.8"
  }
 },
 "nbformat": 4,
 "nbformat_minor": 2
}
